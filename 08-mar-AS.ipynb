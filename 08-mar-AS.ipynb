{
 "cells": [
  {
   "cell_type": "markdown",
   "id": "c1f79b48-e132-4f94-ba27-29b823cfe556",
   "metadata": {},
   "source": [
    "# Q1. What is the Probability density function?\n",
    "\n",
    "The probability density function (PDF) is a function that describes the relative likelihood or probability of a continuous random variable taking on a specific value or falling within a particular range of values.\n",
    "\n",
    "Unlike the probability mass function (PMF), which is used for discrete random variables, the PDF is used for continuous random variables. The PDF is defined as the derivative of the cumulative distribution function (CDF) with respect to the variable of interest.\n",
    "\n",
    "Mathematically, the PDF is denoted by f(x) and satisfies the following properties:\n",
    "\n",
    "The probability of a random variable taking on any particular value is zero, i.e., P(X = x) = 0 for all x.\n",
    "\n",
    "The total area under the PDF curve is equal to 1, i.e., ∫f(x)dx = 1, where the integral is taken over the entire range of the random variable.\n",
    "\n",
    "The probability of a random variable falling within a particular range of values is given by the area under the PDF curve between those values.\n",
    "\n",
    "The PDF is an essential concept in probability theory and statistics, as it allows us to calculate probabilities and make inferences about continuous random variables."
   ]
  },
  {
   "cell_type": "markdown",
   "id": "f21a2bbe-e9d5-4438-a6a6-dcb7edc401d1",
   "metadata": {},
   "source": [
    "# Q2. What are the types of Probability distribution?\n",
    "\n",
    "There are several types of probability distributions, each with its own characteristics and applications. Some of the most common types of probability distributions are:\n",
    "\n",
    "Bernoulli distribution: A discrete distribution that models the probability of a binary outcome (e.g., success/failure, yes/no) in a single trial.\n",
    "\n",
    "Binomial distribution: A discrete distribution that models the number of successes in a fixed number of independent Bernoulli trials.\n",
    "\n",
    "Poisson distribution: A discrete distribution that models the probability of a certain number of events occurring in a fixed time or space interval.\n",
    "\n",
    "Uniform distribution: A continuous distribution where all values in a given range have equal probability of occurring.\n",
    "\n",
    "Normal distribution: A continuous distribution that is symmetrical, bell-shaped, and describes many natural phenomena.\n",
    "\n",
    "Exponential distribution: A continuous distribution that models the time between events occurring in a Poisson process.\n",
    "\n",
    "Gamma distribution: A continuous distribution that is often used to model waiting times and the sum of independent exponential distributions.\n",
    "\n",
    "Chi-squared distribution: A continuous distribution that is often used in hypothesis testing and confidence interval calculations.\n",
    "\n",
    "These are just a few examples of the many types of probability distributions that exist. Each distribution has its own set of properties and applications, and the choice of distribution will depend on the nature of the data and the problem being studied."
   ]
  },
  {
   "cell_type": "markdown",
   "id": "ae5e01da-50bf-40fd-8a8a-66527e76fc1c",
   "metadata": {},
   "source": [
    "# Q3. Write a Python function to calculate the probability density function of a normal distribution with given mean and standard deviation at a given point.\n"
   ]
  },
  {
   "cell_type": "code",
   "execution_count": 1,
   "id": "96aa1c51-b888-4de1-8901-c2927d9e8c4e",
   "metadata": {},
   "outputs": [
    {
     "name": "stdout",
     "output_type": "stream",
     "text": [
      "0.12098536225957168\n"
     ]
    }
   ],
   "source": [
    "\n",
    "import math\n",
    "\n",
    "def normal_pdf(x, mean, std_dev):\n",
    "    \"\"\"\n",
    "    Calculates the probability density function of a normal distribution at a given point.\n",
    "    \n",
    "    Args:\n",
    "    x (float): The point at which to calculate the PDF.\n",
    "    mean (float): The mean of the normal distribution.\n",
    "    std_dev (float): The standard deviation of the normal distribution.\n",
    "    \n",
    "    Returns:\n",
    "    float: The PDF of the normal distribution at the given point.\n",
    "    \"\"\"\n",
    "    coefficient = 1 / (std_dev * math.sqrt(2 * math.pi))\n",
    "    exponent = -((x - mean)**2) / (2 * std_dev**2)\n",
    "    pdf = coefficient * math.exp(exponent)\n",
    "    return pdf\n",
    "\n",
    "\n",
    "pdf = normal_pdf(7, 5, 2)\n",
    "print(pdf)  # Output: 0.12098536225957168"
   ]
  },
  {
   "cell_type": "markdown",
   "id": "b638f897-8e95-4b31-89e4-d9406b189ae3",
   "metadata": {},
   "source": [
    "# Q4. What are the properties of Binomial distribution? Give two examples of events where binomial distribution can be applied.\n",
    "\n",
    "The binomial distribution is a probability distribution that describes the number of successes in a fixed number of independent and identical trials, where each trial has only two possible outcomes (success or failure). The properties of the binomial distribution are:\n",
    "\n",
    "The distribution is discrete, meaning that the random variable can only take on integer values. The distribution is characterized by two parameters: n, the number of trials, and p, the probability of success on each trial. The mean of the distribution is np, and the variance is np(1-p). The shape of the distribution is symmetric for values of p=0.5, and becomes increasingly skewed as p moves away from 0.5.\n",
    "\n",
    "Two examples of events where the binomial distribution can be applied are:\n",
    "\n",
    "Tossing a coin: Suppose we toss a fair coin (where the probability of getting heads is p=0.5) 10 times. The number of heads we get in this experiment follows a binomial distribution with parameters n=10 and p=0.5.\n",
    "\n",
    "Quality control: A manufacturer wants to check the quality of a batch of 1000 products, and decides to inspect 10% of the items at random. Let's assume that each product has a probability p=0.95 of passing the inspection. The number of products that pass the inspection follows a binomial distribution with parameters n=100 and p=0.95."
   ]
  },
  {
   "cell_type": "markdown",
   "id": "7269cf7b-ded2-4441-bd9f-75570e351302",
   "metadata": {},
   "source": [
    "# Q5. Generate a random sample of size 1000 from a binomial distribution with probability of success 0.4 and plot a histogram of the results using matplotlib.\n"
   ]
  },
  {
   "cell_type": "code",
   "execution_count": 2,
   "id": "ba7d8a48-1770-4f24-9da7-bb5c42ca4404",
   "metadata": {},
   "outputs": [
    {
     "data": {
      "image/png": "[encoded data removed]",
      "text/plain": [
       "<Figure size 640x480 with 1 Axes>"
      ]
     },
     "metadata": {},
     "output_type": "display_data"
    }
   ],
   "source": [
    "\n",
    "import numpy as np\n",
    "import matplotlib.pyplot as plt\n",
    "\n",
    "# Set the parameters\n",
    "n = 1000  # number of trials\n",
    "p = 0.4   # probability of success\n",
    "\n",
    "# Generate the random sample\n",
    "sample = np.random.binomial(n, p, size=1000)\n",
    "\n",
    "# Plot the histogram\n",
    "plt.hist(sample, bins=30, density=True, alpha=0.5)\n",
    "plt.xlabel('Number of successes')\n",
    "plt.ylabel('Probability density')\n",
    "plt.title('Binomial distribution with n=1000, p=0.4')\n",
    "plt.show()"
   ]
  },
  {
   "cell_type": "markdown",
   "id": "dc344a5b-8228-48c0-9424-bfb41519b25e",
   "metadata": {},
   "source": [
    "This code generates a random sample of size 1000 from a binomial distribution with parameters n=1000 and p=0.4 using NumPy's np.random.binomial function. It then plots a histogram of the sample using Matplotlib's plt.hist function, with 30 bins and a transparency of 0.5. The resulting plot shows the distribution of the number of successes in 1000 trials, with a probability of success of 0.4."
   ]
  },
  {
   "cell_type": "markdown",
   "id": "addbb788-0b5c-4523-8405-a98f5d365b62",
   "metadata": {},
   "source": [
    "# Q6. Write a Python function to calculate the cumulative distribution function of a Poisson distribution with given mean at a given point.\n"
   ]
  },
  {
   "cell_type": "code",
   "execution_count": 3,
   "id": "219b203f-3880-4ac3-b301-8de3cd113320",
   "metadata": {},
   "outputs": [],
   "source": [
    "\n",
    "import math\n",
    "\n",
    "def poisson_cdf(mu, k):\n",
    "    \"\"\"\n",
    "    Calculate the cumulative distribution function (CDF) of a Poisson distribution with mean mu at point k.\n",
    "    \"\"\"\n",
    "    cdf = 0.0\n",
    "    for i in range(k+1):\n",
    "        cdf += math.exp(-mu) * (mu ** i) / math.factorial(i)\n",
    "    return cdf"
   ]
  },
  {
   "cell_type": "markdown",
   "id": "92fb200e-22c0-41c7-8fb4-8bed0c1e04d8",
   "metadata": {},
   "source": [
    "This function uses the formula for the Poisson CDF, which is the sum of the probabilities of all Poisson events up to and including the given point k. The formula is:\n",
    "\n",
    "CDF(k) = P(X <= k) = sum(i=0 to k) [e^(-mu) * (mu^i / i!)]\n",
    "\n",
    "where X is the random variable representing the Poisson distribution with mean mu.\n",
    "\n",
    "The function poisson_cdf(mu, k) takes two arguments: mu is the mean of the Poisson distribution, and k is the point at which we want to calculate the CDF. It returns the Poisson CDF at that point.\n",
    "\n",
    "Here's an example of how to use this function:"
   ]
  },
  {
   "cell_type": "code",
   "execution_count": 4,
   "id": "ffb6ebaf-9739-4d05-8313-14a4461a1776",
   "metadata": {},
   "outputs": [
    {
     "name": "stdout",
     "output_type": "stream",
     "text": [
      "0.7575761331330659\n"
     ]
    }
   ],
   "source": [
    "# Calculate the Poisson CDF at k=3 with mean mu=2.5\n",
    "result = poisson_cdf(2.5, 3)\n",
    "print(result)"
   ]
  },
  {
   "cell_type": "markdown",
   "id": "a3552489-837a-4f0a-b41d-3c6145fd4739",
   "metadata": {},
   "source": [
    "# Q7. How Binomial distribution different from Poisson distribution?\n"
   ]
  },
  {
   "cell_type": "markdown",
   "id": "22f84cf0-0d6f-4d9d-b248-249605c23012",
   "metadata": {},
   "source": [
    "\n",
    "Binomial and Poisson distributions are both probability distributions used in statistical inference and modeling, but they differ in several important ways:\n",
    "\n",
    "Nature of Events: The Binomial distribution is used to model the number of successes in a fixed number of independent Bernoulli trials, where each trial has only two possible outcomes (success or failure). On the other hand, the Poisson distribution is used to model the number of rare events that occur over a fixed interval of time or space.\n",
    "\n",
    "Assumptions: The Binomial distribution assumes a fixed number of trials and that the probability of success is constant across all trials. The Poisson distribution assumes that the rare events occur randomly and independently in time or space.\n",
    "\n",
    "Parameterization: The Binomial distribution is parameterized by the number of trials (n) and the probability of success on each trial (p), while the Poisson distribution is parameterized by the rate parameter (λ) which represents the average number of rare events per unit of time or space.\n",
    "\n",
    "Range of Values: The Binomial distribution is a discrete distribution and can take on integer values between 0 and n, while the Poisson distribution is also a discrete distribution but can take on any non-negative integer value.\n",
    "\n",
    "Relationship: The Poisson distribution can be derived from the Binomial distribution in the limit as the number of trials becomes large and the probability of success becomes small, while holding the expected number of successes fixed.\n",
    "\n",
    "In summary, while both the Binomial and Poisson distributions are discrete probability distributions, they are used to model different types of events and have different assumptions and parameterizations."
   ]
  },
  {
   "cell_type": "markdown",
   "id": "74714d27-31ac-4d89-9e4e-e21734e50447",
   "metadata": {},
   "source": [
    "# Q8. Generate a random sample of size 1000 from a Poisson distribution with mean 5 and calculate the sample mean and variance.\n"
   ]
  },
  {
   "cell_type": "code",
   "execution_count": 7,
   "id": "30a171a2-371e-407d-b900-fcd519aa04bd",
   "metadata": {},
   "outputs": [
    {
     "name": "stdout",
     "output_type": "stream",
     "text": [
      "Sample mean:  4.854\n",
      "Sample variance:  4.692684\n"
     ]
    }
   ],
   "source": [
    "\n",
    "import numpy as np\n",
    "\n",
    "# Set the parameters\n",
    "mean = 5\n",
    "\n",
    "# Generate the random sample\n",
    "sample = np.random.poisson(mean, size=1000)\n",
    "\n",
    "# Calculate the sample mean and variance\n",
    "sample_mean = np.mean(sample)\n",
    "sample_variance = np.var(sample)\n",
    "\n",
    "print(\"Sample mean: \", sample_mean)\n",
    "print(\"Sample variance: \", sample_variance)"
   ]
  },
  {
   "cell_type": "markdown",
   "id": "38c3f927-8111-42b1-ab2c-fa7ed5325702",
   "metadata": {},
   "source": [
    "This code generates a random sample of size 1000 from a Poisson distribution with mean 5 using NumPy's np.random.poisson function. It then calculates the sample mean and variance using NumPy's np.mean and np.var functions, respectively.\n",
    "\n",
    "The output will be two numbers, the sample mean and variance, which will vary slightly each time you run the code due to the randomness of the sampling process."
   ]
  },
  {
   "cell_type": "markdown",
   "id": "7ec60a90-03ac-4ec3-83cf-cdcc0fa0262a",
   "metadata": {},
   "source": [
    "# Q9. How mean and variance are related in Binomial distribution and Poisson distribution?\n"
   ]
  },
  {
   "cell_type": "markdown",
   "id": "f0696bd7-8b25-4400-9c76-adedd63f5175",
   "metadata": {},
   "source": [
    "\n",
    "In both the Binomial and Poisson distributions, the mean and variance are related, but the nature of the relationship is different for each distribution.\n",
    "\n",
    "For the Binomial distribution with parameters n (number of trials) and p (probability of success on each trial), the mean (μ) and variance (σ^2) are given by:\n",
    "μ = n * p\n",
    "\n",
    "σ^2 = n * p * (1 - p)\n",
    "\n",
    "Here, the variance is directly proportional to both the number of trials n and the probability of success on each trial p. As p gets closer to 0 or 1, the variance becomes smaller, and as n gets larger, the variance also gets larger.\n",
    "\n",
    "For the Poisson distribution with parameter λ (the rate parameter), the mean (μ) and variance (σ^2) are both equal to λ:\n",
    "μ = λ\n",
    "\n",
    "σ^2 = λ\n",
    "\n",
    "Here, the mean and variance are both equal to the rate parameter λ. The variance is proportional to the mean, and as the mean gets larger, the variance also gets larger.\n",
    "\n",
    "In summary, for the Binomial distribution, the variance is proportional to both the number of trials and the probability of success, while for the Poisson distribution, the variance is proportional to the mean."
   ]
  },
  {
   "cell_type": "markdown",
   "id": "8c92f4a4-f8ab-4584-a2d7-4a2c3b490238",
   "metadata": {},
   "source": [
    "# Q10. In normal distribution with respect to mean position, where does the least frequent data appear?\n",
    "\n",
    "In a normal distribution, the least frequent data appears in the tails of the distribution, which are the regions farthest away from the mean. This is because the normal distribution is a symmetric distribution, with a peak at the mean and decreasing density as you move away from the mean in either direction. The probability of observing a data point in the tails of the distribution is smaller than the probability of observing a data point closer to the mean.\n",
    "\n",
    "More specifically, in a standard normal distribution with mean 0 and standard deviation 1, the least frequent data appears in the tails beyond 2 or 3 standard deviations from the mean. The probability of observing a data point beyond 2 or 3 standard deviations from the mean is very small, and these data points are considered outliers or extreme values."
   ]
  },
  {
   "cell_type": "code",
   "execution_count": null,
   "id": "81d32a20-0acc-479a-a208-b4cc251de5cf",
   "metadata": {},
   "outputs": [],
   "source": []
  }
 ],
 "metadata": {
  "kernelspec": {
   "display_name": "Python 3 (ipykernel)",
   "language": "python",
   "name": "python3"
  },
  "language_info": {
   "codemirror_mode": {
    "name": "ipython",
    "version": 3
   },
   "file_extension": ".py",
   "mimetype": "text/x-python",
   "name": "python",
   "nbconvert_exporter": "python",
   "pygments_lexer": "ipython3",
   "version": "3.10.8"
  }
 },
 "nbformat": 4,
 "nbformat_minor": 5
}
